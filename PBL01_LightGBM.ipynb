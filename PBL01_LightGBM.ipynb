{
  "nbformat": 4,
  "nbformat_minor": 0,
  "metadata": {
    "colab": {
      "name": "PBL01-LightGBM.ipynb",
      "provenance": [],
      "toc_visible": true,
      "authorship_tag": "ABX9TyO9+h5Naz6tOBb5UawKG6CJ",
      "include_colab_link": true
    },
    "kernelspec": {
      "display_name": "Python 3",
      "name": "python3"
    },
    "language_info": {
      "name": "python"
    }
  },
  "cells": [
    {
      "cell_type": "markdown",
      "metadata": {
        "id": "view-in-github",
        "colab_type": "text"
      },
      "source": [
        "<a href=\"https://colab.research.google.com/github/nishidatakeshi/AIQuest_PBL01/blob/main/PBL01_LightGBM.ipynb\" target=\"_parent\"><img src=\"https://colab.research.google.com/assets/colab-badge.svg\" alt=\"Open In Colab\"/></a>"
      ]
    },
    {
      "cell_type": "markdown",
      "metadata": {
        "id": "YpRtl71-lku8"
      },
      "source": [
        "# PBL01_需要予測・在庫最適化　サンプルコード\n",
        "\n",
        "## 目次\n",
        "1. データの読み込み\n",
        "2. 前処理\n",
        "3. 特徴量生成\n",
        "4. モデリング\n",
        "5. 提出用ファイルの作成\n",
        "\n",
        "なお、ソースコードは配布ファイルがすべて同じディレクトリ内に存在することを想定しています。"
      ]
    },
    {
      "cell_type": "markdown",
      "metadata": {
        "id": "GmcMtvm9lfve"
      },
      "source": [
        "# ライブラリのインポート"
      ]
    },
    {
      "cell_type": "code",
      "metadata": {
        "id": "R6ZaXYvSlb4E"
      },
      "source": [
        "from itertools import product\n",
        "\n",
        "import pandas as pd\n",
        "import numpy as np\n",
        "from datetime import datetime as dt\n",
        "\n",
        "from matplotlib import pyplot as plt\n",
        "%matplotlib inline\n",
        "import seaborn as sns\n",
        "\n",
        "from sklearn.linear_model import LinearRegression\n",
        "from fbprophet import Prophet\n",
        "\n",
        "import lightgbm as lgb\n",
        "# import optuna.integration.lightgbm as lgb\n",
        "\n",
        "import time\n",
        "\n",
        "def plot_features(booster, figsize):    \n",
        "    fig, ax = plt.subplots(1,1,figsize=figsize)\n",
        "    return plot_importance(booster=booster, ax=ax)\n",
        "  \n",
        "from sklearn.model_selection import StratifiedKFold, KFold, RepeatedKFold, GroupKFold, GridSearchCV, train_test_split, TimeSeriesSplit\n",
        "import gc\n",
        "from sklearn import preprocessing, metrics"
      ],
      "execution_count": null,
      "outputs": []
    },
    {
      "cell_type": "markdown",
      "metadata": {
        "id": "TDUWiurbl6_6"
      },
      "source": [
        "# 1.データの読み込み\n",
        "pandas.read_csv()"
      ]
    },
    {
      "cell_type": "code",
      "metadata": {
        "colab": {
          "base_uri": "https://localhost:8080/"
        },
        "id": "AyQByU9elbEI",
        "outputId": "89e5f9d3-5027-4de8-e5d7-f515dbb4b041"
      },
      "source": [
        "from google.colab import drive\n",
        "drive.mount('/content/drive')"
      ],
      "execution_count": null,
      "outputs": [
        {
          "output_type": "stream",
          "name": "stdout",
          "text": [
            "Drive already mounted at /content/drive; to attempt to forcibly remount, call drive.mount(\"/content/drive\", force_remount=True).\n"
          ]
        }
      ]
    },
    {
      "cell_type": "code",
      "metadata": {
        "id": "CrlP_2m6mXc1"
      },
      "source": [
        "sales = pd.read_csv('drive/MyDrive/AIQuest/sales_history.csv')\n",
        "cats = pd.read_csv('drive/MyDrive/AIQuest/item_categories.csv')\n",
        "cat_names = pd.read_csv('drive/MyDrive/AIQuest/category_names.csv')\n",
        "test = pd.read_csv('drive/MyDrive/AIQuest/test.csv')\n",
        "sub = pd.read_csv('drive/MyDrive/AIQuest/sample_submission.csv', header=None)\n",
        "\n",
        "sales = sales.rename(columns={'日付': 'date', \"店舗ID\": \"shop_id\",\"商品ID\": \"item_id\", \"商品価格\":\"item_price\", \"売上個数\":\"item_cnt_day\"})\n",
        "cats = cats.rename(columns={'商品カテゴリID': 'item_category_id', \"商品ID\": \"item_id\"})\n",
        "cat_names = cat_names.rename(columns={'商品カテゴリID': 'item_category_id', \"商品カテゴリ名\": \"item_category_name\"})\n",
        "test = test.rename(columns={'商品ID':'item_id', '店舗ID':'shop_id'})"
      ],
      "execution_count": null,
      "outputs": []
    },
    {
      "cell_type": "markdown",
      "metadata": {
        "id": "_kpQGeNMmBth"
      },
      "source": [
        "# 2.前処理"
      ]
    },
    {
      "cell_type": "markdown",
      "metadata": {
        "id": "Swb7EAprnFRK"
      },
      "source": [
        "### 「年」「月」の情報を抽出\n",
        "pandas.Series.apply(), str.split()"
      ]
    },
    {
      "cell_type": "code",
      "metadata": {
        "colab": {
          "base_uri": "https://localhost:8080/",
          "height": 204
        },
        "id": "TXzktIvtnNlh",
        "outputId": "3ffc18ea-8dc1-4977-e58b-0ac127fbe760"
      },
      "source": [
        "# 「date」カラムの文字列から、「年」「月」の情報を抽出する\n",
        "sales['year'] = sales['date'].apply(lambda x: x.split('-')[0])\n",
        "sales['month'] = sales['date'].apply(lambda x: x.split('-')[1])\n",
        "\n",
        "sales.head()"
      ],
      "execution_count": null,
      "outputs": [
        {
          "output_type": "execute_result",
          "data": {
            "text/html": [
              "<div>\n",
              "<style scoped>\n",
              "    .dataframe tbody tr th:only-of-type {\n",
              "        vertical-align: middle;\n",
              "    }\n",
              "\n",
              "    .dataframe tbody tr th {\n",
              "        vertical-align: top;\n",
              "    }\n",
              "\n",
              "    .dataframe thead th {\n",
              "        text-align: right;\n",
              "    }\n",
              "</style>\n",
              "<table border=\"1\" class=\"dataframe\">\n",
              "  <thead>\n",
              "    <tr style=\"text-align: right;\">\n",
              "      <th></th>\n",
              "      <th>date</th>\n",
              "      <th>shop_id</th>\n",
              "      <th>item_id</th>\n",
              "      <th>item_price</th>\n",
              "      <th>item_cnt_day</th>\n",
              "      <th>year</th>\n",
              "      <th>month</th>\n",
              "    </tr>\n",
              "  </thead>\n",
              "  <tbody>\n",
              "    <tr>\n",
              "      <th>0</th>\n",
              "      <td>2018-01-01</td>\n",
              "      <td>9</td>\n",
              "      <td>1000001</td>\n",
              "      <td>420</td>\n",
              "      <td>1.0</td>\n",
              "      <td>2018</td>\n",
              "      <td>01</td>\n",
              "    </tr>\n",
              "    <tr>\n",
              "      <th>1</th>\n",
              "      <td>2018-01-01</td>\n",
              "      <td>6</td>\n",
              "      <td>1000001</td>\n",
              "      <td>420</td>\n",
              "      <td>1.0</td>\n",
              "      <td>2018</td>\n",
              "      <td>01</td>\n",
              "    </tr>\n",
              "    <tr>\n",
              "      <th>2</th>\n",
              "      <td>2018-01-01</td>\n",
              "      <td>10</td>\n",
              "      <td>1000001</td>\n",
              "      <td>420</td>\n",
              "      <td>1.0</td>\n",
              "      <td>2018</td>\n",
              "      <td>01</td>\n",
              "    </tr>\n",
              "    <tr>\n",
              "      <th>3</th>\n",
              "      <td>2018-01-01</td>\n",
              "      <td>0</td>\n",
              "      <td>1000017</td>\n",
              "      <td>250</td>\n",
              "      <td>1.0</td>\n",
              "      <td>2018</td>\n",
              "      <td>01</td>\n",
              "    </tr>\n",
              "    <tr>\n",
              "      <th>4</th>\n",
              "      <td>2018-01-01</td>\n",
              "      <td>1</td>\n",
              "      <td>1000017</td>\n",
              "      <td>250</td>\n",
              "      <td>1.0</td>\n",
              "      <td>2018</td>\n",
              "      <td>01</td>\n",
              "    </tr>\n",
              "  </tbody>\n",
              "</table>\n",
              "</div>"
            ],
            "text/plain": [
              "         date  shop_id  item_id  item_price  item_cnt_day  year month\n",
              "0  2018-01-01        9  1000001         420           1.0  2018    01\n",
              "1  2018-01-01        6  1000001         420           1.0  2018    01\n",
              "2  2018-01-01       10  1000001         420           1.0  2018    01\n",
              "3  2018-01-01        0  1000017         250           1.0  2018    01\n",
              "4  2018-01-01        1  1000017         250           1.0  2018    01"
            ]
          },
          "metadata": {},
          "execution_count": 71
        }
      ]
    },
    {
      "cell_type": "markdown",
      "metadata": {
        "id": "Zqk1Y9iVVBgj"
      },
      "source": [
        "予測するべきべき170商品のうち、今年から販売が開始された20商品とそれ以前から販売されている150商品に分ける。"
      ]
    },
    {
      "cell_type": "code",
      "metadata": {
        "id": "h1dfkmIqVBC8"
      },
      "source": [
        "sales['date'] = sales['date'].apply(lambda x: dt.strptime(x, '%Y-%m-%d'))\n",
        "# 予測対象の商品データ(170商品)\n",
        "target_items = test[\"item_id\"].unique()\n",
        "target_sales = sales[sales[\"item_id\"].isin(target_items)]\n",
        "target_sales = target_sales.reset_index(drop=True)\n",
        "\n",
        "# 予測対象のうち昨年販売実績のある商品データ(150商品)\n",
        "target_items_150 = target_sales[target_sales[\"date\"] < dt(2019, 1, 1)][\"item_id\"].unique()\n",
        "target_sales_150 = target_sales[target_sales[\"item_id\"].isin(target_items_150)]\n",
        "target_sales_150 = target_sales_150.reset_index(drop=True)\n",
        "\n",
        "# 予測対象のうち今年のみ販売実績のある商品データ(20商品)\n",
        "target_items_20 = list(set(target_items) - set(target_items_150))\n",
        "target_sales_20 = target_sales[target_sales[\"item_id\"].isin(target_items_20)]\n",
        "target_sales_20 = target_sales_20.reset_index(drop=True)"
      ],
      "execution_count": null,
      "outputs": []
    },
    {
      "cell_type": "markdown",
      "metadata": {
        "id": "OSXARWYRnHXe"
      },
      "source": [
        "### 「date_block_num」通し番号作成"
      ]
    },
    {
      "cell_type": "code",
      "metadata": {
        "colab": {
          "base_uri": "https://localhost:8080/",
          "height": 762
        },
        "id": "y-bjgSehmvBg",
        "outputId": "324ec544-4ce0-4ef4-cca7-4ef91deaed23"
      },
      "source": [
        "# カラム名「date_block_num」として、通し番号をつける\n",
        "gp_time = sales.groupby(['year', 'month']).count().reset_index()[['year', 'month']]\n",
        "gp_time['date_block_num'] = list(range(len(gp_time)))\n",
        "\n",
        "# testデータ用に、評価対象期間である2019年12月(date_block_num: 23)のレコードを追加する\n",
        "gp_time = gp_time.append({\n",
        "    'date_block_num': 23,\n",
        "    'year': '2019',\n",
        "    'month': '12'\n",
        "}, ignore_index=True)\n",
        "\n",
        "gp_time"
      ],
      "execution_count": null,
      "outputs": [
        {
          "output_type": "execute_result",
          "data": {
            "text/html": [
              "<div>\n",
              "<style scoped>\n",
              "    .dataframe tbody tr th:only-of-type {\n",
              "        vertical-align: middle;\n",
              "    }\n",
              "\n",
              "    .dataframe tbody tr th {\n",
              "        vertical-align: top;\n",
              "    }\n",
              "\n",
              "    .dataframe thead th {\n",
              "        text-align: right;\n",
              "    }\n",
              "</style>\n",
              "<table border=\"1\" class=\"dataframe\">\n",
              "  <thead>\n",
              "    <tr style=\"text-align: right;\">\n",
              "      <th></th>\n",
              "      <th>year</th>\n",
              "      <th>month</th>\n",
              "      <th>date_block_num</th>\n",
              "    </tr>\n",
              "  </thead>\n",
              "  <tbody>\n",
              "    <tr>\n",
              "      <th>0</th>\n",
              "      <td>2018</td>\n",
              "      <td>01</td>\n",
              "      <td>0</td>\n",
              "    </tr>\n",
              "    <tr>\n",
              "      <th>1</th>\n",
              "      <td>2018</td>\n",
              "      <td>02</td>\n",
              "      <td>1</td>\n",
              "    </tr>\n",
              "    <tr>\n",
              "      <th>2</th>\n",
              "      <td>2018</td>\n",
              "      <td>03</td>\n",
              "      <td>2</td>\n",
              "    </tr>\n",
              "    <tr>\n",
              "      <th>3</th>\n",
              "      <td>2018</td>\n",
              "      <td>04</td>\n",
              "      <td>3</td>\n",
              "    </tr>\n",
              "    <tr>\n",
              "      <th>4</th>\n",
              "      <td>2018</td>\n",
              "      <td>05</td>\n",
              "      <td>4</td>\n",
              "    </tr>\n",
              "    <tr>\n",
              "      <th>5</th>\n",
              "      <td>2018</td>\n",
              "      <td>06</td>\n",
              "      <td>5</td>\n",
              "    </tr>\n",
              "    <tr>\n",
              "      <th>6</th>\n",
              "      <td>2018</td>\n",
              "      <td>07</td>\n",
              "      <td>6</td>\n",
              "    </tr>\n",
              "    <tr>\n",
              "      <th>7</th>\n",
              "      <td>2018</td>\n",
              "      <td>08</td>\n",
              "      <td>7</td>\n",
              "    </tr>\n",
              "    <tr>\n",
              "      <th>8</th>\n",
              "      <td>2018</td>\n",
              "      <td>09</td>\n",
              "      <td>8</td>\n",
              "    </tr>\n",
              "    <tr>\n",
              "      <th>9</th>\n",
              "      <td>2018</td>\n",
              "      <td>10</td>\n",
              "      <td>9</td>\n",
              "    </tr>\n",
              "    <tr>\n",
              "      <th>10</th>\n",
              "      <td>2018</td>\n",
              "      <td>11</td>\n",
              "      <td>10</td>\n",
              "    </tr>\n",
              "    <tr>\n",
              "      <th>11</th>\n",
              "      <td>2018</td>\n",
              "      <td>12</td>\n",
              "      <td>11</td>\n",
              "    </tr>\n",
              "    <tr>\n",
              "      <th>12</th>\n",
              "      <td>2019</td>\n",
              "      <td>01</td>\n",
              "      <td>12</td>\n",
              "    </tr>\n",
              "    <tr>\n",
              "      <th>13</th>\n",
              "      <td>2019</td>\n",
              "      <td>02</td>\n",
              "      <td>13</td>\n",
              "    </tr>\n",
              "    <tr>\n",
              "      <th>14</th>\n",
              "      <td>2019</td>\n",
              "      <td>03</td>\n",
              "      <td>14</td>\n",
              "    </tr>\n",
              "    <tr>\n",
              "      <th>15</th>\n",
              "      <td>2019</td>\n",
              "      <td>04</td>\n",
              "      <td>15</td>\n",
              "    </tr>\n",
              "    <tr>\n",
              "      <th>16</th>\n",
              "      <td>2019</td>\n",
              "      <td>05</td>\n",
              "      <td>16</td>\n",
              "    </tr>\n",
              "    <tr>\n",
              "      <th>17</th>\n",
              "      <td>2019</td>\n",
              "      <td>06</td>\n",
              "      <td>17</td>\n",
              "    </tr>\n",
              "    <tr>\n",
              "      <th>18</th>\n",
              "      <td>2019</td>\n",
              "      <td>07</td>\n",
              "      <td>18</td>\n",
              "    </tr>\n",
              "    <tr>\n",
              "      <th>19</th>\n",
              "      <td>2019</td>\n",
              "      <td>08</td>\n",
              "      <td>19</td>\n",
              "    </tr>\n",
              "    <tr>\n",
              "      <th>20</th>\n",
              "      <td>2019</td>\n",
              "      <td>09</td>\n",
              "      <td>20</td>\n",
              "    </tr>\n",
              "    <tr>\n",
              "      <th>21</th>\n",
              "      <td>2019</td>\n",
              "      <td>10</td>\n",
              "      <td>21</td>\n",
              "    </tr>\n",
              "    <tr>\n",
              "      <th>22</th>\n",
              "      <td>2019</td>\n",
              "      <td>12</td>\n",
              "      <td>23</td>\n",
              "    </tr>\n",
              "  </tbody>\n",
              "</table>\n",
              "</div>"
            ],
            "text/plain": [
              "    year month  date_block_num\n",
              "0   2018    01               0\n",
              "1   2018    02               1\n",
              "2   2018    03               2\n",
              "3   2018    04               3\n",
              "4   2018    05               4\n",
              "5   2018    06               5\n",
              "6   2018    07               6\n",
              "7   2018    08               7\n",
              "8   2018    09               8\n",
              "9   2018    10               9\n",
              "10  2018    11              10\n",
              "11  2018    12              11\n",
              "12  2019    01              12\n",
              "13  2019    02              13\n",
              "14  2019    03              14\n",
              "15  2019    04              15\n",
              "16  2019    05              16\n",
              "17  2019    06              17\n",
              "18  2019    07              18\n",
              "19  2019    08              19\n",
              "20  2019    09              20\n",
              "21  2019    10              21\n",
              "22  2019    12              23"
            ]
          },
          "metadata": {},
          "execution_count": 73
        }
      ]
    },
    {
      "cell_type": "code",
      "metadata": {
        "colab": {
          "base_uri": "https://localhost:8080/",
          "height": 419
        },
        "id": "4-roL28toArm",
        "outputId": "1a89d730-983c-48d3-e0b0-a3e320a54c5a"
      },
      "source": [
        "# 「date_block_num」カラムをsalesに統合する\n",
        "sales = pd.merge(sales, gp_time, on=['year', 'month'], how='left')\n",
        "sales"
      ],
      "execution_count": null,
      "outputs": [
        {
          "output_type": "execute_result",
          "data": {
            "text/html": [
              "<div>\n",
              "<style scoped>\n",
              "    .dataframe tbody tr th:only-of-type {\n",
              "        vertical-align: middle;\n",
              "    }\n",
              "\n",
              "    .dataframe tbody tr th {\n",
              "        vertical-align: top;\n",
              "    }\n",
              "\n",
              "    .dataframe thead th {\n",
              "        text-align: right;\n",
              "    }\n",
              "</style>\n",
              "<table border=\"1\" class=\"dataframe\">\n",
              "  <thead>\n",
              "    <tr style=\"text-align: right;\">\n",
              "      <th></th>\n",
              "      <th>date</th>\n",
              "      <th>shop_id</th>\n",
              "      <th>item_id</th>\n",
              "      <th>item_price</th>\n",
              "      <th>item_cnt_day</th>\n",
              "      <th>year</th>\n",
              "      <th>month</th>\n",
              "      <th>date_block_num</th>\n",
              "    </tr>\n",
              "  </thead>\n",
              "  <tbody>\n",
              "    <tr>\n",
              "      <th>0</th>\n",
              "      <td>2018-01-01</td>\n",
              "      <td>9</td>\n",
              "      <td>1000001</td>\n",
              "      <td>420</td>\n",
              "      <td>1.0</td>\n",
              "      <td>2018</td>\n",
              "      <td>01</td>\n",
              "      <td>0</td>\n",
              "    </tr>\n",
              "    <tr>\n",
              "      <th>1</th>\n",
              "      <td>2018-01-01</td>\n",
              "      <td>6</td>\n",
              "      <td>1000001</td>\n",
              "      <td>420</td>\n",
              "      <td>1.0</td>\n",
              "      <td>2018</td>\n",
              "      <td>01</td>\n",
              "      <td>0</td>\n",
              "    </tr>\n",
              "    <tr>\n",
              "      <th>2</th>\n",
              "      <td>2018-01-01</td>\n",
              "      <td>10</td>\n",
              "      <td>1000001</td>\n",
              "      <td>420</td>\n",
              "      <td>1.0</td>\n",
              "      <td>2018</td>\n",
              "      <td>01</td>\n",
              "      <td>0</td>\n",
              "    </tr>\n",
              "    <tr>\n",
              "      <th>3</th>\n",
              "      <td>2018-01-01</td>\n",
              "      <td>0</td>\n",
              "      <td>1000017</td>\n",
              "      <td>250</td>\n",
              "      <td>1.0</td>\n",
              "      <td>2018</td>\n",
              "      <td>01</td>\n",
              "      <td>0</td>\n",
              "    </tr>\n",
              "    <tr>\n",
              "      <th>4</th>\n",
              "      <td>2018-01-01</td>\n",
              "      <td>1</td>\n",
              "      <td>1000017</td>\n",
              "      <td>250</td>\n",
              "      <td>1.0</td>\n",
              "      <td>2018</td>\n",
              "      <td>01</td>\n",
              "      <td>0</td>\n",
              "    </tr>\n",
              "    <tr>\n",
              "      <th>...</th>\n",
              "      <td>...</td>\n",
              "      <td>...</td>\n",
              "      <td>...</td>\n",
              "      <td>...</td>\n",
              "      <td>...</td>\n",
              "      <td>...</td>\n",
              "      <td>...</td>\n",
              "      <td>...</td>\n",
              "    </tr>\n",
              "    <tr>\n",
              "      <th>1119565</th>\n",
              "      <td>2019-10-31</td>\n",
              "      <td>8</td>\n",
              "      <td>3400006</td>\n",
              "      <td>2700</td>\n",
              "      <td>1.0</td>\n",
              "      <td>2019</td>\n",
              "      <td>10</td>\n",
              "      <td>21</td>\n",
              "    </tr>\n",
              "    <tr>\n",
              "      <th>1119566</th>\n",
              "      <td>2019-10-31</td>\n",
              "      <td>7</td>\n",
              "      <td>3400009</td>\n",
              "      <td>1020</td>\n",
              "      <td>1.0</td>\n",
              "      <td>2019</td>\n",
              "      <td>10</td>\n",
              "      <td>21</td>\n",
              "    </tr>\n",
              "    <tr>\n",
              "      <th>1119567</th>\n",
              "      <td>2019-10-31</td>\n",
              "      <td>7</td>\n",
              "      <td>3400012</td>\n",
              "      <td>510</td>\n",
              "      <td>1.0</td>\n",
              "      <td>2019</td>\n",
              "      <td>10</td>\n",
              "      <td>21</td>\n",
              "    </tr>\n",
              "    <tr>\n",
              "      <th>1119568</th>\n",
              "      <td>2019-10-31</td>\n",
              "      <td>4</td>\n",
              "      <td>3500001</td>\n",
              "      <td>340</td>\n",
              "      <td>1.0</td>\n",
              "      <td>2019</td>\n",
              "      <td>10</td>\n",
              "      <td>21</td>\n",
              "    </tr>\n",
              "    <tr>\n",
              "      <th>1119569</th>\n",
              "      <td>2019-10-31</td>\n",
              "      <td>13</td>\n",
              "      <td>3500004</td>\n",
              "      <td>420</td>\n",
              "      <td>1.0</td>\n",
              "      <td>2019</td>\n",
              "      <td>10</td>\n",
              "      <td>21</td>\n",
              "    </tr>\n",
              "  </tbody>\n",
              "</table>\n",
              "<p>1119570 rows × 8 columns</p>\n",
              "</div>"
            ],
            "text/plain": [
              "              date  shop_id  item_id  ...  year  month date_block_num\n",
              "0       2018-01-01        9  1000001  ...  2018     01              0\n",
              "1       2018-01-01        6  1000001  ...  2018     01              0\n",
              "2       2018-01-01       10  1000001  ...  2018     01              0\n",
              "3       2018-01-01        0  1000017  ...  2018     01              0\n",
              "4       2018-01-01        1  1000017  ...  2018     01              0\n",
              "...            ...      ...      ...  ...   ...    ...            ...\n",
              "1119565 2019-10-31        8  3400006  ...  2019     10             21\n",
              "1119566 2019-10-31        7  3400009  ...  2019     10             21\n",
              "1119567 2019-10-31        7  3400012  ...  2019     10             21\n",
              "1119568 2019-10-31        4  3500001  ...  2019     10             21\n",
              "1119569 2019-10-31       13  3500004  ...  2019     10             21\n",
              "\n",
              "[1119570 rows x 8 columns]"
            ]
          },
          "metadata": {},
          "execution_count": 74
        }
      ]
    },
    {
      "cell_type": "markdown",
      "metadata": {
        "id": "qItv6i6BpKEd"
      },
      "source": [
        "### 全組み合わせを作成\n"
      ]
    },
    {
      "cell_type": "code",
      "metadata": {
        "id": "GIfsEdfzpPdU"
      },
      "source": [
        "matrix = []\n",
        "\n",
        "columns = ['date_block_num', 'item_id', 'shop_id']\n",
        "\n",
        "for i in range(22):\n",
        "    train_block = sales[sales['date_block_num']==i]\n",
        "    matrix.append(np.array(list(product([i], train_block['item_id'].unique(), train_block['shop_id'].unique()))))\n",
        "    \n",
        "matrix = pd.DataFrame(np.vstack(matrix), columns=columns)\n",
        "matrix.sort_values(columns, inplace=True)"
      ],
      "execution_count": null,
      "outputs": []
    },
    {
      "cell_type": "markdown",
      "metadata": {
        "id": "g02bQ9f2oGLx"
      },
      "source": [
        "### 月毎の売上個数を集計、追加\n",
        "pandas.DataFrame.groupby()"
      ]
    },
    {
      "cell_type": "code",
      "metadata": {
        "id": "8ZyCQKF3xZ4X"
      },
      "source": [
        "cols = ['date_block_num','shop_id','item_id']"
      ],
      "execution_count": null,
      "outputs": []
    },
    {
      "cell_type": "code",
      "metadata": {
        "id": "CrPQPkxKoIEr"
      },
      "source": [
        "group = sales.groupby(['date_block_num','shop_id','item_id']).agg({'item_cnt_day': ['sum']})\n",
        "group.columns = ['item_cnt_month']\n",
        "group.reset_index(inplace=True)\n",
        "\n",
        "matrix = pd.merge(matrix, group, on=cols, how='left')\n",
        "matrix['item_cnt_month'] = (matrix['item_cnt_month']\n",
        "                                .fillna(0)\n",
        "                                .clip(0,20) # NB clip target here\n",
        "                                .astype(np.float16))"
      ],
      "execution_count": null,
      "outputs": []
    },
    {
      "cell_type": "markdown",
      "metadata": {
        "id": "nVk1y2BJrZh8"
      },
      "source": [
        "### testデータにカラムを追加する"
      ]
    },
    {
      "cell_type": "code",
      "metadata": {
        "colab": {
          "base_uri": "https://localhost:8080/",
          "height": 224
        },
        "id": "Q4JrMmWsrY_c",
        "outputId": "3cf4092a-8a14-4b48-8384-d59c079ed505"
      },
      "source": [
        "new_test = test.copy()\n",
        "\n",
        "# 評価対象期間が2019年12月(date_block_num: 23)であるという情報を追加\n",
        "new_test['date_block_num'] = 23\n",
        "\n",
        "new_test.head()"
      ],
      "execution_count": null,
      "outputs": [
        {
          "output_type": "execute_result",
          "data": {
            "text/html": [
              "<div>\n",
              "<style scoped>\n",
              "    .dataframe tbody tr th:only-of-type {\n",
              "        vertical-align: middle;\n",
              "    }\n",
              "\n",
              "    .dataframe tbody tr th {\n",
              "        vertical-align: top;\n",
              "    }\n",
              "\n",
              "    .dataframe thead th {\n",
              "        text-align: right;\n",
              "    }\n",
              "</style>\n",
              "<table border=\"1\" class=\"dataframe\">\n",
              "  <thead>\n",
              "    <tr style=\"text-align: right;\">\n",
              "      <th></th>\n",
              "      <th>index</th>\n",
              "      <th>item_id</th>\n",
              "      <th>shop_id</th>\n",
              "      <th>date_block_num</th>\n",
              "    </tr>\n",
              "  </thead>\n",
              "  <tbody>\n",
              "    <tr>\n",
              "      <th>0</th>\n",
              "      <td>0</td>\n",
              "      <td>1000001</td>\n",
              "      <td>0</td>\n",
              "      <td>23</td>\n",
              "    </tr>\n",
              "    <tr>\n",
              "      <th>1</th>\n",
              "      <td>1</td>\n",
              "      <td>1000001</td>\n",
              "      <td>1</td>\n",
              "      <td>23</td>\n",
              "    </tr>\n",
              "    <tr>\n",
              "      <th>2</th>\n",
              "      <td>2</td>\n",
              "      <td>1000001</td>\n",
              "      <td>2</td>\n",
              "      <td>23</td>\n",
              "    </tr>\n",
              "    <tr>\n",
              "      <th>3</th>\n",
              "      <td>3</td>\n",
              "      <td>1000001</td>\n",
              "      <td>3</td>\n",
              "      <td>23</td>\n",
              "    </tr>\n",
              "    <tr>\n",
              "      <th>4</th>\n",
              "      <td>4</td>\n",
              "      <td>1000001</td>\n",
              "      <td>4</td>\n",
              "      <td>23</td>\n",
              "    </tr>\n",
              "  </tbody>\n",
              "</table>\n",
              "</div>"
            ],
            "text/plain": [
              "   index  item_id  shop_id  date_block_num\n",
              "0      0  1000001        0              23\n",
              "1      1  1000001        1              23\n",
              "2      2  1000001        2              23\n",
              "3      3  1000001        3              23\n",
              "4      4  1000001        4              23"
            ]
          },
          "metadata": {},
          "execution_count": 78
        }
      ]
    },
    {
      "cell_type": "markdown",
      "metadata": {
        "id": "HbOLWB1c18fv"
      },
      "source": [
        "### 外れ値を探す"
      ]
    },
    {
      "cell_type": "code",
      "metadata": {
        "colab": {
          "base_uri": "https://localhost:8080/",
          "height": 71
        },
        "id": "0iFX-bPi052Y",
        "outputId": "57d2f4e8-f3c3-4d6e-a1bf-528b19362e3b"
      },
      "source": [
        "sns.boxplot(x=sales.item_cnt_day)"
      ],
      "execution_count": null,
      "outputs": [
        {
          "output_type": "execute_result",
          "data": {
            "text/plain": [
              "<matplotlib.axes._subplots.AxesSubplot at 0x7f27970428d0>"
            ]
          },
          "metadata": {},
          "execution_count": 79
        },
        {
          "output_type": "display_data",
          "data": {
            "image/png": "[encoded data removed]",
            "text/plain": [
              "<Figure size 432x288 with 1 Axes>"
            ]
          },
          "metadata": {
            "needs_background": "light"
          }
        }
      ]
    },
    {
      "cell_type": "code",
      "metadata": {
        "colab": {
          "base_uri": "https://localhost:8080/",
          "height": 71
        },
        "id": "dj0ESRLj1WMY",
        "outputId": "9664da72-0f6c-4ff4-9a33-b56fe8fadb9c"
      },
      "source": [
        "sns.boxplot(x=sales.item_price)"
      ],
      "execution_count": null,
      "outputs": [
        {
          "output_type": "execute_result",
          "data": {
            "text/plain": [
              "<matplotlib.axes._subplots.AxesSubplot at 0x7f2796c9cf50>"
            ]
          },
          "metadata": {},
          "execution_count": 80
        },
        {
          "output_type": "display_data",
          "data": {
            "image/png": "[encoded data removed]",
            "text/plain": [
              "<Figure size 432x288 with 1 Axes>"
            ]
          },
          "metadata": {
            "needs_background": "light"
          }
        }
      ]
    },
    {
      "cell_type": "code",
      "metadata": {
        "id": "VqkX_jge1dc1"
      },
      "source": [
        "sales = sales[(sales.item_price < 100000) & (sales.item_price > 0)]"
      ],
      "execution_count": null,
      "outputs": []
    },
    {
      "cell_type": "markdown",
      "metadata": {
        "id": "PZ6PCJX7re_n"
      },
      "source": [
        "### 学習データとテストデータを縦に結合\n",
        "pd.concat()"
      ]
    },
    {
      "cell_type": "code",
      "metadata": {
        "colab": {
          "base_uri": "https://localhost:8080/",
          "height": 507
        },
        "id": "k0MdG0GdoUIC",
        "outputId": "23528a95-2197-4582-8af7-9e60d70bdd81"
      },
      "source": [
        "matrix = pd.concat([matrix, new_test])\n",
        "matrix"
      ],
      "execution_count": null,
      "outputs": [
        {
          "output_type": "execute_result",
          "data": {
            "text/html": [
              "<div>\n",
              "<style scoped>\n",
              "    .dataframe tbody tr th:only-of-type {\n",
              "        vertical-align: middle;\n",
              "    }\n",
              "\n",
              "    .dataframe tbody tr th {\n",
              "        vertical-align: top;\n",
              "    }\n",
              "\n",
              "    .dataframe thead th {\n",
              "        text-align: right;\n",
              "    }\n",
              "</style>\n",
              "<table border=\"1\" class=\"dataframe\">\n",
              "  <thead>\n",
              "    <tr style=\"text-align: right;\">\n",
              "      <th></th>\n",
              "      <th>date_block_num</th>\n",
              "      <th>item_id</th>\n",
              "      <th>shop_id</th>\n",
              "      <th>item_cnt_month</th>\n",
              "      <th>index</th>\n",
              "    </tr>\n",
              "  </thead>\n",
              "  <tbody>\n",
              "    <tr>\n",
              "      <th>0</th>\n",
              "      <td>0</td>\n",
              "      <td>1000001</td>\n",
              "      <td>0</td>\n",
              "      <td>6.0</td>\n",
              "      <td>NaN</td>\n",
              "    </tr>\n",
              "    <tr>\n",
              "      <th>1</th>\n",
              "      <td>0</td>\n",
              "      <td>1000001</td>\n",
              "      <td>1</td>\n",
              "      <td>2.0</td>\n",
              "      <td>NaN</td>\n",
              "    </tr>\n",
              "    <tr>\n",
              "      <th>2</th>\n",
              "      <td>0</td>\n",
              "      <td>1000001</td>\n",
              "      <td>2</td>\n",
              "      <td>1.0</td>\n",
              "      <td>NaN</td>\n",
              "    </tr>\n",
              "    <tr>\n",
              "      <th>3</th>\n",
              "      <td>0</td>\n",
              "      <td>1000001</td>\n",
              "      <td>3</td>\n",
              "      <td>2.0</td>\n",
              "      <td>NaN</td>\n",
              "    </tr>\n",
              "    <tr>\n",
              "      <th>4</th>\n",
              "      <td>0</td>\n",
              "      <td>1000001</td>\n",
              "      <td>4</td>\n",
              "      <td>0.0</td>\n",
              "      <td>NaN</td>\n",
              "    </tr>\n",
              "    <tr>\n",
              "      <th>...</th>\n",
              "      <td>...</td>\n",
              "      <td>...</td>\n",
              "      <td>...</td>\n",
              "      <td>...</td>\n",
              "      <td>...</td>\n",
              "    </tr>\n",
              "    <tr>\n",
              "      <th>3055</th>\n",
              "      <td>23</td>\n",
              "      <td>3500001</td>\n",
              "      <td>13</td>\n",
              "      <td>NaN</td>\n",
              "      <td>3055.0</td>\n",
              "    </tr>\n",
              "    <tr>\n",
              "      <th>3056</th>\n",
              "      <td>23</td>\n",
              "      <td>3500001</td>\n",
              "      <td>14</td>\n",
              "      <td>NaN</td>\n",
              "      <td>3056.0</td>\n",
              "    </tr>\n",
              "    <tr>\n",
              "      <th>3057</th>\n",
              "      <td>23</td>\n",
              "      <td>3500001</td>\n",
              "      <td>15</td>\n",
              "      <td>NaN</td>\n",
              "      <td>3057.0</td>\n",
              "    </tr>\n",
              "    <tr>\n",
              "      <th>3058</th>\n",
              "      <td>23</td>\n",
              "      <td>3500001</td>\n",
              "      <td>16</td>\n",
              "      <td>NaN</td>\n",
              "      <td>3058.0</td>\n",
              "    </tr>\n",
              "    <tr>\n",
              "      <th>3059</th>\n",
              "      <td>23</td>\n",
              "      <td>3500001</td>\n",
              "      <td>17</td>\n",
              "      <td>NaN</td>\n",
              "      <td>3059.0</td>\n",
              "    </tr>\n",
              "  </tbody>\n",
              "</table>\n",
              "<p>1651986 rows × 5 columns</p>\n",
              "</div>"
            ],
            "text/plain": [
              "      date_block_num  item_id  shop_id  item_cnt_month   index\n",
              "0                  0  1000001        0             6.0     NaN\n",
              "1                  0  1000001        1             2.0     NaN\n",
              "2                  0  1000001        2             1.0     NaN\n",
              "3                  0  1000001        3             2.0     NaN\n",
              "4                  0  1000001        4             0.0     NaN\n",
              "...              ...      ...      ...             ...     ...\n",
              "3055              23  3500001       13             NaN  3055.0\n",
              "3056              23  3500001       14             NaN  3056.0\n",
              "3057              23  3500001       15             NaN  3057.0\n",
              "3058              23  3500001       16             NaN  3058.0\n",
              "3059              23  3500001       17             NaN  3059.0\n",
              "\n",
              "[1651986 rows x 5 columns]"
            ]
          },
          "metadata": {},
          "execution_count": 82
        }
      ]
    },
    {
      "cell_type": "markdown",
      "metadata": {
        "id": "azFKPU4lt4IX"
      },
      "source": [
        "### 商品カテゴリIDを追加"
      ]
    },
    {
      "cell_type": "code",
      "metadata": {
        "id": "ges5fWZRt26P"
      },
      "source": [
        "matrix = pd.merge(matrix, cats, on='item_id', how='left')"
      ],
      "execution_count": null,
      "outputs": []
    },
    {
      "cell_type": "markdown",
      "metadata": {
        "id": "AOsqYwBemDnj"
      },
      "source": [
        "# 3.特徴量作成"
      ]
    },
    {
      "cell_type": "markdown",
      "metadata": {
        "id": "DRdVIWRNsT18"
      },
      "source": [
        "### ラグ特徴量の作成\n",
        "lag_feature(dataset, どれだけずらすか(配列), どのカラムを対象にするか):"
      ]
    },
    {
      "cell_type": "code",
      "metadata": {
        "id": "BdQYS7UGsWAy"
      },
      "source": [
        "def lag_feature(df, lags, col):\n",
        "    tmp = df[['date_block_num','shop_id','item_id', col]]\n",
        "    for i in lags:\n",
        "        shifted = tmp.copy()\n",
        "        shifted.columns = ['date_block_num','shop_id','item_id', col+'_lag_'+str(i)]\n",
        "        shifted['date_block_num'] += i\n",
        "        df = pd.merge(df, shifted, on=['date_block_num','shop_id','item_id'], how='left')\n",
        "    return df"
      ],
      "execution_count": null,
      "outputs": []
    },
    {
      "cell_type": "markdown",
      "metadata": {
        "id": "jYZEX0cYsnkO"
      },
      "source": [
        "売上個数(2,3,6,12)"
      ]
    },
    {
      "cell_type": "code",
      "metadata": {
        "id": "PN_xOulspFWh"
      },
      "source": [
        "matrix = lag_feature(matrix, [2,3,6,12], 'item_cnt_month')"
      ],
      "execution_count": null,
      "outputs": []
    },
    {
      "cell_type": "markdown",
      "metadata": {
        "id": "WhkokwkQs838"
      },
      "source": [
        "月売上個数平均"
      ]
    },
    {
      "cell_type": "code",
      "metadata": {
        "id": "etW8MJKBtUud"
      },
      "source": [
        "group = matrix.groupby(['date_block_num']).agg({'item_cnt_month': ['mean']})\n",
        "group.columns = [ 'date_avg_item_cnt' ]\n",
        "group.reset_index(inplace=True)\n",
        "\n",
        "matrix = pd.merge(matrix, group, on=['date_block_num'], how='left')\n",
        "matrix['date_avg_item_cnt'] = matrix['date_avg_item_cnt'].astype(np.float16)\n",
        "matrix = lag_feature(matrix, [2], 'date_avg_item_cnt')\n",
        "matrix.drop(['date_avg_item_cnt'], axis=1, inplace=True)"
      ],
      "execution_count": null,
      "outputs": []
    },
    {
      "cell_type": "markdown",
      "metadata": {
        "id": "GuzREgYZtsEK"
      },
      "source": [
        "商品別月売上個数平均"
      ]
    },
    {
      "cell_type": "code",
      "metadata": {
        "id": "fm45H-avtsZN"
      },
      "source": [
        "group = matrix.groupby(['date_block_num', 'item_id']).agg({'item_cnt_month': ['mean']})\n",
        "group.columns = [ 'date_item_avg_item_cnt' ]\n",
        "group.reset_index(inplace=True)\n",
        "\n",
        "matrix = pd.merge(matrix, group, on=['date_block_num','item_id'], how='left')\n",
        "matrix['date_item_avg_item_cnt'] = matrix['date_item_avg_item_cnt'].astype(np.float16)\n",
        "matrix = lag_feature(matrix, [2,3,6,12], 'date_item_avg_item_cnt')\n",
        "matrix.drop(['date_item_avg_item_cnt'], axis=1, inplace=True)"
      ],
      "execution_count": null,
      "outputs": []
    },
    {
      "cell_type": "markdown",
      "metadata": {
        "id": "1XiK7QVjuDx0"
      },
      "source": [
        "店舗別月売上個数平均"
      ]
    },
    {
      "cell_type": "code",
      "metadata": {
        "id": "bFZW315pttqD"
      },
      "source": [
        "group = matrix.groupby(['date_block_num', 'shop_id']).agg({'item_cnt_month': ['mean']})\n",
        "group.columns = [ 'date_shop_avg_item_cnt' ]\n",
        "group.reset_index(inplace=True)\n",
        "\n",
        "matrix = pd.merge(matrix, group, on=['date_block_num','shop_id'], how='left')\n",
        "matrix['date_shop_avg_item_cnt'] = matrix['date_shop_avg_item_cnt'].astype(np.float16)\n",
        "matrix = lag_feature(matrix, [2,3,6,12], 'date_shop_avg_item_cnt')\n",
        "matrix.drop(['date_shop_avg_item_cnt'], axis=1, inplace=True)"
      ],
      "execution_count": null,
      "outputs": []
    },
    {
      "cell_type": "markdown",
      "metadata": {
        "id": "yEJBE38ruIYz"
      },
      "source": [
        "商品カテゴリ別月売上個数平均"
      ]
    },
    {
      "cell_type": "code",
      "metadata": {
        "id": "cAfMkk9CtvdY"
      },
      "source": [
        "group = matrix.groupby(['date_block_num', 'item_category_id']).agg({'item_cnt_month': ['mean']})\n",
        "group.columns = [ 'date_cat_avg_item_cnt' ]\n",
        "group.reset_index(inplace=True)\n",
        "\n",
        "matrix = pd.merge(matrix, group, on=['date_block_num','item_category_id'], how='left')\n",
        "matrix['date_cat_avg_item_cnt'] = matrix['date_cat_avg_item_cnt'].astype(np.float16)\n",
        "matrix = lag_feature(matrix, [2], 'date_cat_avg_item_cnt')\n",
        "matrix.drop(['date_cat_avg_item_cnt'], axis=1, inplace=True)"
      ],
      "execution_count": null,
      "outputs": []
    },
    {
      "cell_type": "markdown",
      "metadata": {
        "id": "KwDWRWemuUcI"
      },
      "source": [
        "商品カテゴリ別店舗別月別売上個数平均"
      ]
    },
    {
      "cell_type": "code",
      "metadata": {
        "id": "d_O3aVpMuUI_"
      },
      "source": [
        "group = matrix.groupby(['date_block_num', 'shop_id', 'item_category_id']).agg({'item_cnt_month': ['mean']})\n",
        "group.columns = ['date_shop_cat_avg_item_cnt']\n",
        "group.reset_index(inplace=True)\n",
        "\n",
        "matrix = pd.merge(matrix, group, on=['date_block_num', 'shop_id', 'item_category_id'], how='left')\n",
        "matrix['date_shop_cat_avg_item_cnt'] = matrix['date_shop_cat_avg_item_cnt'].astype(np.float16)\n",
        "matrix = lag_feature(matrix, [2], 'date_shop_cat_avg_item_cnt')\n",
        "matrix.drop(['date_shop_cat_avg_item_cnt'], axis=1, inplace=True)"
      ],
      "execution_count": null,
      "outputs": []
    },
    {
      "cell_type": "markdown",
      "metadata": {
        "id": "oBQxsHOoucGv"
      },
      "source": [
        "商品平均価格"
      ]
    },
    {
      "cell_type": "code",
      "metadata": {
        "colab": {
          "base_uri": "https://localhost:8080/"
        },
        "id": "GJnQDfBNuWbN",
        "outputId": "151910ac-3569-4018-c1bc-ae9a72b63fc6"
      },
      "source": [
        "ts = time.time()\n",
        "group = sales.groupby(['item_id']).agg({'item_price': ['mean']})\n",
        "group.columns = ['item_avg_item_price']\n",
        "group.reset_index(inplace=True)\n",
        "\n",
        "matrix = pd.merge(matrix, group, on=['item_id'], how='left')\n",
        "matrix['item_avg_item_price'] = matrix['item_avg_item_price'].astype(np.float16)\n",
        "\n",
        "group = sales.groupby(['date_block_num','item_id']).agg({'item_price': ['mean']})\n",
        "group.columns = ['date_item_avg_item_price']\n",
        "group.reset_index(inplace=True)\n",
        "\n",
        "matrix = pd.merge(matrix, group, on=['date_block_num','item_id'], how='left')\n",
        "matrix['date_item_avg_item_price'] = matrix['date_item_avg_item_price'].astype(np.float16)\n",
        "\n",
        "lags = [2,3,4,5,6]\n",
        "matrix = lag_feature(matrix, lags, 'date_item_avg_item_price')\n",
        "\n",
        "for i in lags:\n",
        "    matrix['delta_price_lag_'+str(i)] = \\\n",
        "        (matrix['date_item_avg_item_price_lag_'+str(i)] - matrix['item_avg_item_price']) / matrix['item_avg_item_price']\n",
        "\n",
        "def select_trend(row):\n",
        "    for i in lags:\n",
        "        if row['delta_price_lag_'+str(i)]:\n",
        "            return row['delta_price_lag_'+str(i)]\n",
        "    return 0\n",
        "    \n",
        "matrix['delta_price_lag'] = matrix.apply(select_trend, axis=1)\n",
        "matrix['delta_price_lag'] = matrix['delta_price_lag'].astype(np.float16)\n",
        "matrix['delta_price_lag'].fillna(0, inplace=True)\n",
        "\n",
        "# https://stackoverflow.com/questions/31828240/first-non-null-value-per-row-from-a-list-of-pandas-columns/31828559\n",
        "# matrix['price_trend'] = matrix[['delta_price_lag_1','delta_price_lag_2','delta_price_lag_3']].bfill(axis=1).iloc[:, 0]\n",
        "# Invalid dtype for backfill_2d [float16]\n",
        "\n",
        "fetures_to_drop = ['item_avg_item_price', 'date_item_avg_item_price']\n",
        "for i in lags:\n",
        "    fetures_to_drop += ['date_item_avg_item_price_lag_'+str(i)]\n",
        "    fetures_to_drop += ['delta_price_lag_'+str(i)]\n",
        "\n",
        "matrix.drop(fetures_to_drop, axis=1, inplace=True)\n",
        "\n",
        "time.time() - ts"
      ],
      "execution_count": null,
      "outputs": [
        {
          "output_type": "execute_result",
          "data": {
            "text/plain": [
              "31.62816882133484"
            ]
          },
          "metadata": {},
          "execution_count": 91
        }
      ]
    },
    {
      "cell_type": "markdown",
      "metadata": {
        "id": "IqAWCdo3voTw"
      },
      "source": [
        "###「月」情報の追加"
      ]
    },
    {
      "cell_type": "code",
      "metadata": {
        "id": "GAEhKTD_vosU"
      },
      "source": [
        "matrix['month'] = matrix['date_block_num'] % 12 + 1"
      ],
      "execution_count": null,
      "outputs": []
    },
    {
      "cell_type": "markdown",
      "metadata": {
        "id": "xV_edPUsvyHe"
      },
      "source": [
        "### 欠損値を0で埋める"
      ]
    },
    {
      "cell_type": "code",
      "metadata": {
        "id": "AEQCXquhvxad"
      },
      "source": [
        "matrix = matrix.fillna(0)"
      ],
      "execution_count": null,
      "outputs": []
    },
    {
      "cell_type": "code",
      "metadata": {
        "colab": {
          "base_uri": "https://localhost:8080/"
        },
        "id": "J9QRJYxAwQPk",
        "outputId": "68c58ec6-48f1-4688-adb0-476bf15a82bf"
      },
      "source": [
        "matrix.info()"
      ],
      "execution_count": null,
      "outputs": [
        {
          "output_type": "stream",
          "name": "stdout",
          "text": [
            "<class 'pandas.core.frame.DataFrame'>\n",
            "Int64Index: 1651986 entries, 0 to 1651985\n",
            "Data columns (total 23 columns):\n",
            " #   Column                            Non-Null Count    Dtype  \n",
            "---  ------                            --------------    -----  \n",
            " 0   date_block_num                    1651986 non-null  int64  \n",
            " 1   item_id                           1651986 non-null  int64  \n",
            " 2   shop_id                           1651986 non-null  int64  \n",
            " 3   item_cnt_month                    1651986 non-null  float16\n",
            " 4   index                             1651986 non-null  float64\n",
            " 5   item_category_id                  1651986 non-null  int64  \n",
            " 6   item_cnt_month_lag_2              1651986 non-null  float16\n",
            " 7   item_cnt_month_lag_3              1651986 non-null  float16\n",
            " 8   item_cnt_month_lag_6              1651986 non-null  float16\n",
            " 9   item_cnt_month_lag_12             1651986 non-null  float16\n",
            " 10  date_avg_item_cnt_lag_2           1651986 non-null  float16\n",
            " 11  date_item_avg_item_cnt_lag_2      1651986 non-null  float16\n",
            " 12  date_item_avg_item_cnt_lag_3      1651986 non-null  float16\n",
            " 13  date_item_avg_item_cnt_lag_6      1651986 non-null  float16\n",
            " 14  date_item_avg_item_cnt_lag_12     1651986 non-null  float16\n",
            " 15  date_shop_avg_item_cnt_lag_2      1651986 non-null  float16\n",
            " 16  date_shop_avg_item_cnt_lag_3      1651986 non-null  float16\n",
            " 17  date_shop_avg_item_cnt_lag_6      1651986 non-null  float16\n",
            " 18  date_shop_avg_item_cnt_lag_12     1651986 non-null  float16\n",
            " 19  date_cat_avg_item_cnt_lag_2       1651986 non-null  float16\n",
            " 20  date_shop_cat_avg_item_cnt_lag_2  1651986 non-null  float16\n",
            " 21  delta_price_lag                   1651986 non-null  float16\n",
            " 22  month                             1651986 non-null  int64  \n",
            "dtypes: float16(17), float64(1), int64(5)\n",
            "memory usage: 141.8 MB\n"
          ]
        }
      ]
    },
    {
      "cell_type": "code",
      "metadata": {
        "id": "lUCXOuoZwToJ"
      },
      "source": [
        "matrix.to_pickle('data.pkl')\n",
        "del matrix\n",
        "del group\n",
        "del sales\n",
        "del cat_names\n",
        "del cats\n",
        "# leave test for submission"
      ],
      "execution_count": null,
      "outputs": []
    },
    {
      "cell_type": "markdown",
      "metadata": {
        "id": "pv9auu5PmJFV"
      },
      "source": [
        "# 4. モデリング"
      ]
    },
    {
      "cell_type": "code",
      "metadata": {
        "id": "j-5eFfl6sNL4"
      },
      "source": [
        "data = pd.read_pickle('data.pkl')"
      ],
      "execution_count": null,
      "outputs": []
    },
    {
      "cell_type": "code",
      "metadata": {
        "id": "palGesfTwq44"
      },
      "source": [
        "data = data[[\n",
        "    'date_block_num',\n",
        "    'shop_id',\n",
        "    # 'item_id',\n",
        "    'item_cnt_month',\n",
        "    'item_category_id',\n",
        "    'item_cnt_month_lag_2',\n",
        "    'item_cnt_month_lag_3',\n",
        "    'item_cnt_month_lag_6',\n",
        "    'item_cnt_month_lag_12',\n",
        "    'date_item_avg_item_cnt_lag_2',\n",
        "    'date_item_avg_item_cnt_lag_3',\n",
        "    'date_item_avg_item_cnt_lag_6',\n",
        "    'date_item_avg_item_cnt_lag_12',\n",
        "    'date_shop_avg_item_cnt_lag_2',\n",
        "    'date_shop_avg_item_cnt_lag_3',\n",
        "    'date_shop_avg_item_cnt_lag_6',\n",
        "    'date_shop_avg_item_cnt_lag_12',\n",
        "    'date_cat_avg_item_cnt_lag_2',\n",
        "    'date_shop_cat_avg_item_cnt_lag_2',\n",
        "    'delta_price_lag',\n",
        "    'month',\n",
        "]]"
      ],
      "execution_count": null,
      "outputs": []
    },
    {
      "cell_type": "code",
      "metadata": {
        "id": "1xzknc1RxyLW"
      },
      "source": [
        "# 学習データとしては、「12ヶ月前の売上個数」カラムが存在するレコードのみを抽出する\n",
        "data = data[data['date_block_num'] >= 12]\n",
        "\n",
        "# X_train = data[data['date_block_num'] < 21].drop(['item_cnt_month'], axis=1)\n",
        "# y_train = data[data['date_block_num'] < 21]['item_cnt_month']\n",
        "# X_valid = data[data['date_block_num'] == 21].drop(['item_cnt_month'], axis=1)\n",
        "# y_valid = data[data['date_block_num'] == 21]['item_cnt_month']\n",
        "# trains = lgb.Dataset(X_train, y_train)\n",
        "# valids = lgb.Dataset(X_valid, y_valid)\n",
        "x = data[data['date_block_num'] < 23].drop(['item_cnt_month'], axis=1)\n",
        "y = data[data['date_block_num'] < 23]['item_cnt_month']\n",
        "X_test = data[data['date_block_num'] == 23].drop(['item_cnt_month'], axis=1)\n",
        "del data"
      ],
      "execution_count": null,
      "outputs": []
    },
    {
      "cell_type": "code",
      "metadata": {
        "id": "4bvTNtOF3HTQ"
      },
      "source": [
        "n_fold = 5 #3 for timely purpose of the kernel\n",
        "folds = TimeSeriesSplit(n_splits=n_fold)"
      ],
      "execution_count": null,
      "outputs": []
    },
    {
      "cell_type": "code",
      "metadata": {
        "colab": {
          "base_uri": "https://localhost:8080/"
        },
        "id": "X5LhYXUozQCG",
        "outputId": "d47691de-add5-4396-8291-4872f98d3046"
      },
      "source": [
        "feature_name = x.columns.tolist()\n",
        "\n",
        "params = {\n",
        "  'bagging_fraction': 1.0,\n",
        "  'bagging_freq': 0,\n",
        "  'feature_fraction': 0.7,\n",
        "  'feature_pre_filter': False,\n",
        "  'lambda_l1': 1.1220094507437152e-05,\n",
        "  'lambda_l2': 0.00013337754332144622,\n",
        "  'metric': 'rmse',\n",
        "  'min_child_samples': 20,\n",
        "  'num_leaves': 159,\n",
        "  'objective': 'regression'}\n",
        "\n",
        "feature_name_indexes = [ \n",
        "    \"item_category_id\",\n",
        "    \"month\",\n",
        "]\n",
        "\n",
        "splits = folds.split(x, y)\n",
        "y_preds = np.zeros(test.shape[0])\n",
        "y_oof = np.zeros(x.shape[0])\n",
        "feature_importances = pd.DataFrame()\n",
        "feature_importances['feature'] = x.columns\n",
        "mean_score = []\n",
        "sub.iloc[:, -1] = np.zeros(test.shape[0])\n",
        "y_oof = np.zeros(x.shape[0])\n",
        "for fold_n, (train_index, valid_index) in enumerate(splits):\n",
        "  print('Fold:',fold_n+1)\n",
        "  X_train, X_valid = x.iloc[train_index,:], x.iloc[valid_index,:]\n",
        "  y_train, y_valid = y.iloc[train_index], y.iloc[valid_index]\n",
        "  dtrain = lgb.Dataset(X_train, label=y_train)\n",
        "  dvalid = lgb.Dataset(X_valid, label=y_valid)\n",
        "  gbm = lgb.train(\n",
        "          params, \n",
        "          dtrain,\n",
        "          num_boost_round=3000,\n",
        "          valid_sets=(dtrain, dvalid), \n",
        "          feature_name = feature_name,\n",
        "          categorical_feature = feature_name_indexes,\n",
        "          verbose_eval=5, \n",
        "          early_stopping_rounds = 100)\n",
        "  feature_importances[f'fold_{fold_n + 1}'] = gbm.feature_importance()\n",
        "  y_pred_valid = gbm.predict(X_valid,num_iteration=gbm.best_iteration)\n",
        "  y_oof[valid_index] = y_pred_valid\n",
        "  #RMSE\n",
        "  val_score = np.sqrt(metrics.mean_squared_error(y_pred_valid, y_valid))\n",
        "  print(f'val rmse score is {val_score}')\n",
        "  mean_score.append(val_score)\n",
        "\n",
        "  #Predict\n",
        "  y_pred = gbm.predict(X_test, num_iteration=gbm.best_iteration)\n",
        "  sub.iloc[:, -1] += y_pred/n_fold\n",
        "\n",
        "  del X_train, X_valid, y_train, y_valid\n",
        "  gc.collect()\n",
        "  sub.iloc[:, -1] += y_pred/n_fold\n",
        "sub.to_csv('drive/MyDrive/AIQuest/my_submission_by_LightGBM_by_myself.csv', index=False, header=False)"
      ],
      "execution_count": null,
      "outputs": [
        {
          "output_type": "stream",
          "name": "stdout",
          "text": [
            "Fold: 1\n"
          ]
        },
        {
          "output_type": "stream",
          "name": "stderr",
          "text": [
            "/usr/local/lib/python3.7/dist-packages/lightgbm/basic.py:1209: UserWarning:\n",
            "\n",
            "categorical_feature in Dataset is overridden.\n",
            "New categorical_feature is ['item_category_id', 'month']\n",
            "\n",
            "/usr/local/lib/python3.7/dist-packages/lightgbm/basic.py:762: UserWarning:\n",
            "\n",
            "categorical_feature in param dict is overridden.\n",
            "\n"
          ]
        },
        {
          "output_type": "stream",
          "name": "stdout",
          "text": [
            "Training until validation scores don't improve for 100 rounds.\n",
            "[5]\ttraining's rmse: 1.66457\tvalid_1's rmse: 1.75825\n",
            "[10]\ttraining's rmse: 1.47884\tvalid_1's rmse: 1.66585\n",
            "[15]\ttraining's rmse: 1.3834\tvalid_1's rmse: 1.64705\n",
            "[20]\ttraining's rmse: 1.32884\tvalid_1's rmse: 1.64675\n",
            "[25]\ttraining's rmse: 1.29359\tvalid_1's rmse: 1.65283\n",
            "[30]\ttraining's rmse: 1.27053\tvalid_1's rmse: 1.65736\n",
            "[35]\ttraining's rmse: 1.251\tvalid_1's rmse: 1.66189\n",
            "[40]\ttraining's rmse: 1.2361\tvalid_1's rmse: 1.66732\n",
            "[45]\ttraining's rmse: 1.2232\tvalid_1's rmse: 1.66966\n",
            "[50]\ttraining's rmse: 1.21304\tvalid_1's rmse: 1.66904\n",
            "[55]\ttraining's rmse: 1.20533\tvalid_1's rmse: 1.67043\n",
            "[60]\ttraining's rmse: 1.19846\tvalid_1's rmse: 1.66984\n",
            "[65]\ttraining's rmse: 1.19188\tvalid_1's rmse: 1.67064\n",
            "[70]\ttraining's rmse: 1.18629\tvalid_1's rmse: 1.67098\n",
            "[75]\ttraining's rmse: 1.18102\tvalid_1's rmse: 1.67121\n",
            "[80]\ttraining's rmse: 1.17603\tvalid_1's rmse: 1.67118\n",
            "[85]\ttraining's rmse: 1.17114\tvalid_1's rmse: 1.67197\n",
            "[90]\ttraining's rmse: 1.16672\tvalid_1's rmse: 1.67256\n",
            "[95]\ttraining's rmse: 1.16261\tvalid_1's rmse: 1.67323\n",
            "[100]\ttraining's rmse: 1.15812\tvalid_1's rmse: 1.67377\n",
            "[105]\ttraining's rmse: 1.1538\tvalid_1's rmse: 1.67433\n",
            "[110]\ttraining's rmse: 1.1503\tvalid_1's rmse: 1.67455\n",
            "[115]\ttraining's rmse: 1.14661\tvalid_1's rmse: 1.67567\n",
            "Early stopping, best iteration is:\n",
            "[17]\ttraining's rmse: 1.35838\tvalid_1's rmse: 1.64598\n",
            "val rmse score is 1.6459785953167512\n",
            "Fold: 2\n"
          ]
        },
        {
          "output_type": "stream",
          "name": "stderr",
          "text": [
            "/usr/local/lib/python3.7/dist-packages/lightgbm/basic.py:1209: UserWarning:\n",
            "\n",
            "categorical_feature in Dataset is overridden.\n",
            "New categorical_feature is ['item_category_id', 'month']\n",
            "\n",
            "/usr/local/lib/python3.7/dist-packages/lightgbm/basic.py:762: UserWarning:\n",
            "\n",
            "categorical_feature in param dict is overridden.\n",
            "\n"
          ]
        },
        {
          "output_type": "stream",
          "name": "stdout",
          "text": [
            "Training until validation scores don't improve for 100 rounds.\n",
            "[5]\ttraining's rmse: 1.70827\tvalid_1's rmse: 1.61263\n",
            "[10]\ttraining's rmse: 1.53716\tvalid_1's rmse: 1.53254\n",
            "[15]\ttraining's rmse: 1.44824\tvalid_1's rmse: 1.50237\n",
            "[20]\ttraining's rmse: 1.39958\tvalid_1's rmse: 1.49713\n",
            "[25]\ttraining's rmse: 1.36606\tvalid_1's rmse: 1.49789\n",
            "[30]\ttraining's rmse: 1.34375\tvalid_1's rmse: 1.49697\n",
            "[35]\ttraining's rmse: 1.32497\tvalid_1's rmse: 1.49914\n",
            "[40]\ttraining's rmse: 1.31126\tvalid_1's rmse: 1.50261\n",
            "[45]\ttraining's rmse: 1.29967\tvalid_1's rmse: 1.50471\n",
            "[50]\ttraining's rmse: 1.29057\tvalid_1's rmse: 1.50549\n",
            "[55]\ttraining's rmse: 1.28187\tvalid_1's rmse: 1.50605\n",
            "[60]\ttraining's rmse: 1.27566\tvalid_1's rmse: 1.50586\n",
            "[65]\ttraining's rmse: 1.2693\tvalid_1's rmse: 1.50691\n",
            "[70]\ttraining's rmse: 1.2637\tvalid_1's rmse: 1.50647\n",
            "[75]\ttraining's rmse: 1.25792\tvalid_1's rmse: 1.506\n",
            "[80]\ttraining's rmse: 1.25294\tvalid_1's rmse: 1.50636\n",
            "[85]\ttraining's rmse: 1.24783\tvalid_1's rmse: 1.50726\n",
            "[90]\ttraining's rmse: 1.24385\tvalid_1's rmse: 1.50741\n",
            "[95]\ttraining's rmse: 1.23978\tvalid_1's rmse: 1.50774\n",
            "[100]\ttraining's rmse: 1.23583\tvalid_1's rmse: 1.50877\n",
            "[105]\ttraining's rmse: 1.23228\tvalid_1's rmse: 1.50851\n",
            "[110]\ttraining's rmse: 1.22895\tvalid_1's rmse: 1.50859\n",
            "[115]\ttraining's rmse: 1.22575\tvalid_1's rmse: 1.50851\n",
            "[120]\ttraining's rmse: 1.22271\tvalid_1's rmse: 1.50872\n",
            "Early stopping, best iteration is:\n",
            "[21]\ttraining's rmse: 1.39135\tvalid_1's rmse: 1.49618\n",
            "val rmse score is 1.4961772705078833\n",
            "Fold: 3\n"
          ]
        },
        {
          "output_type": "stream",
          "name": "stderr",
          "text": [
            "/usr/local/lib/python3.7/dist-packages/lightgbm/basic.py:1209: UserWarning:\n",
            "\n",
            "categorical_feature in Dataset is overridden.\n",
            "New categorical_feature is ['item_category_id', 'month']\n",
            "\n",
            "/usr/local/lib/python3.7/dist-packages/lightgbm/basic.py:762: UserWarning:\n",
            "\n",
            "categorical_feature in param dict is overridden.\n",
            "\n"
          ]
        },
        {
          "output_type": "stream",
          "name": "stdout",
          "text": [
            "Training until validation scores don't improve for 100 rounds.\n",
            "[5]\ttraining's rmse: 1.68125\tvalid_1's rmse: 1.53618\n",
            "[10]\ttraining's rmse: 1.53225\tvalid_1's rmse: 1.42719\n",
            "[15]\ttraining's rmse: 1.45581\tvalid_1's rmse: 1.37553\n",
            "[20]\ttraining's rmse: 1.41292\tvalid_1's rmse: 1.35433\n",
            "[25]\ttraining's rmse: 1.38308\tvalid_1's rmse: 1.34135\n",
            "[30]\ttraining's rmse: 1.36341\tvalid_1's rmse: 1.33573\n",
            "[35]\ttraining's rmse: 1.34806\tvalid_1's rmse: 1.33383\n",
            "[40]\ttraining's rmse: 1.33547\tvalid_1's rmse: 1.33318\n",
            "[45]\ttraining's rmse: 1.32469\tvalid_1's rmse: 1.33325\n",
            "[50]\ttraining's rmse: 1.31567\tvalid_1's rmse: 1.33204\n",
            "[55]\ttraining's rmse: 1.30799\tvalid_1's rmse: 1.33232\n",
            "[60]\ttraining's rmse: 1.30205\tvalid_1's rmse: 1.33166\n",
            "[65]\ttraining's rmse: 1.29646\tvalid_1's rmse: 1.33124\n",
            "[70]\ttraining's rmse: 1.2913\tvalid_1's rmse: 1.33096\n",
            "[75]\ttraining's rmse: 1.28682\tvalid_1's rmse: 1.33101\n",
            "[80]\ttraining's rmse: 1.28233\tvalid_1's rmse: 1.33139\n",
            "[85]\ttraining's rmse: 1.27792\tvalid_1's rmse: 1.33164\n",
            "[90]\ttraining's rmse: 1.27382\tvalid_1's rmse: 1.33184\n",
            "[95]\ttraining's rmse: 1.27039\tvalid_1's rmse: 1.33204\n",
            "[100]\ttraining's rmse: 1.2666\tvalid_1's rmse: 1.33203\n",
            "[105]\ttraining's rmse: 1.26369\tvalid_1's rmse: 1.33192\n",
            "[110]\ttraining's rmse: 1.26043\tvalid_1's rmse: 1.33231\n",
            "[115]\ttraining's rmse: 1.25751\tvalid_1's rmse: 1.33248\n",
            "[120]\ttraining's rmse: 1.25458\tvalid_1's rmse: 1.33344\n",
            "[125]\ttraining's rmse: 1.25164\tvalid_1's rmse: 1.33348\n",
            "[130]\ttraining's rmse: 1.24913\tvalid_1's rmse: 1.33367\n",
            "[135]\ttraining's rmse: 1.24656\tvalid_1's rmse: 1.33408\n",
            "[140]\ttraining's rmse: 1.24418\tvalid_1's rmse: 1.33439\n",
            "[145]\ttraining's rmse: 1.24169\tvalid_1's rmse: 1.33442\n",
            "[150]\ttraining's rmse: 1.23944\tvalid_1's rmse: 1.33437\n",
            "[155]\ttraining's rmse: 1.23727\tvalid_1's rmse: 1.33462\n",
            "[160]\ttraining's rmse: 1.23536\tvalid_1's rmse: 1.33471\n",
            "[165]\ttraining's rmse: 1.23335\tvalid_1's rmse: 1.33495\n",
            "[170]\ttraining's rmse: 1.23132\tvalid_1's rmse: 1.33525\n",
            "Early stopping, best iteration is:\n",
            "[70]\ttraining's rmse: 1.2913\tvalid_1's rmse: 1.33096\n",
            "val rmse score is 1.3395371011714499\n",
            "Fold: 4\n"
          ]
        },
        {
          "output_type": "stream",
          "name": "stderr",
          "text": [
            "/usr/local/lib/python3.7/dist-packages/lightgbm/basic.py:1209: UserWarning:\n",
            "\n",
            "categorical_feature in Dataset is overridden.\n",
            "New categorical_feature is ['item_category_id', 'month']\n",
            "\n",
            "/usr/local/lib/python3.7/dist-packages/lightgbm/basic.py:762: UserWarning:\n",
            "\n",
            "categorical_feature in param dict is overridden.\n",
            "\n"
          ]
        },
        {
          "output_type": "stream",
          "name": "stdout",
          "text": [
            "Training until validation scores don't improve for 100 rounds.\n",
            "[5]\ttraining's rmse: 1.64342\tvalid_1's rmse: 1.60954\n",
            "[10]\ttraining's rmse: 1.50157\tvalid_1's rmse: 1.49846\n",
            "[15]\ttraining's rmse: 1.42959\tvalid_1's rmse: 1.44517\n",
            "[20]\ttraining's rmse: 1.38937\tvalid_1's rmse: 1.42017\n",
            "[25]\ttraining's rmse: 1.361\tvalid_1's rmse: 1.40491\n",
            "[30]\ttraining's rmse: 1.34284\tvalid_1's rmse: 1.39717\n",
            "[35]\ttraining's rmse: 1.32769\tvalid_1's rmse: 1.3903\n",
            "[40]\ttraining's rmse: 1.31591\tvalid_1's rmse: 1.3875\n",
            "[45]\ttraining's rmse: 1.30557\tvalid_1's rmse: 1.38596\n",
            "[50]\ttraining's rmse: 1.29733\tvalid_1's rmse: 1.38402\n",
            "[55]\ttraining's rmse: 1.29023\tvalid_1's rmse: 1.38258\n",
            "[60]\ttraining's rmse: 1.28476\tvalid_1's rmse: 1.38071\n",
            "[65]\ttraining's rmse: 1.27955\tvalid_1's rmse: 1.38036\n",
            "[70]\ttraining's rmse: 1.27447\tvalid_1's rmse: 1.37862\n",
            "[75]\ttraining's rmse: 1.27006\tvalid_1's rmse: 1.37732\n",
            "[80]\ttraining's rmse: 1.26638\tvalid_1's rmse: 1.37677\n",
            "[85]\ttraining's rmse: 1.26236\tvalid_1's rmse: 1.37695\n",
            "[90]\ttraining's rmse: 1.25892\tvalid_1's rmse: 1.37649\n",
            "[95]\ttraining's rmse: 1.25508\tvalid_1's rmse: 1.37599\n",
            "[100]\ttraining's rmse: 1.25124\tvalid_1's rmse: 1.37558\n",
            "[105]\ttraining's rmse: 1.24801\tvalid_1's rmse: 1.37558\n",
            "[110]\ttraining's rmse: 1.2451\tvalid_1's rmse: 1.37452\n",
            "[115]\ttraining's rmse: 1.24208\tvalid_1's rmse: 1.37389\n",
            "[120]\ttraining's rmse: 1.23929\tvalid_1's rmse: 1.37395\n",
            "[125]\ttraining's rmse: 1.23655\tvalid_1's rmse: 1.37388\n",
            "[130]\ttraining's rmse: 1.2342\tvalid_1's rmse: 1.37385\n",
            "[135]\ttraining's rmse: 1.23182\tvalid_1's rmse: 1.37371\n",
            "[140]\ttraining's rmse: 1.22918\tvalid_1's rmse: 1.37412\n",
            "[145]\ttraining's rmse: 1.22708\tvalid_1's rmse: 1.37405\n",
            "[150]\ttraining's rmse: 1.22488\tvalid_1's rmse: 1.37394\n",
            "[155]\ttraining's rmse: 1.2228\tvalid_1's rmse: 1.37404\n",
            "[160]\ttraining's rmse: 1.22071\tvalid_1's rmse: 1.37423\n",
            "[165]\ttraining's rmse: 1.21887\tvalid_1's rmse: 1.37442\n",
            "[170]\ttraining's rmse: 1.21692\tvalid_1's rmse: 1.3741\n",
            "[175]\ttraining's rmse: 1.21513\tvalid_1's rmse: 1.3741\n",
            "[180]\ttraining's rmse: 1.21339\tvalid_1's rmse: 1.3736\n",
            "[185]\ttraining's rmse: 1.21175\tvalid_1's rmse: 1.37399\n",
            "[190]\ttraining's rmse: 1.20994\tvalid_1's rmse: 1.3742\n",
            "[195]\ttraining's rmse: 1.20814\tvalid_1's rmse: 1.37449\n",
            "[200]\ttraining's rmse: 1.20654\tvalid_1's rmse: 1.37463\n",
            "[205]\ttraining's rmse: 1.20488\tvalid_1's rmse: 1.37475\n",
            "[210]\ttraining's rmse: 1.20328\tvalid_1's rmse: 1.37511\n",
            "[215]\ttraining's rmse: 1.20174\tvalid_1's rmse: 1.37515\n",
            "[220]\ttraining's rmse: 1.20039\tvalid_1's rmse: 1.37519\n",
            "[225]\ttraining's rmse: 1.19889\tvalid_1's rmse: 1.37529\n",
            "[230]\ttraining's rmse: 1.19748\tvalid_1's rmse: 1.37541\n",
            "[235]\ttraining's rmse: 1.19598\tvalid_1's rmse: 1.37545\n",
            "[240]\ttraining's rmse: 1.19452\tvalid_1's rmse: 1.3754\n",
            "[245]\ttraining's rmse: 1.19315\tvalid_1's rmse: 1.37563\n",
            "[250]\ttraining's rmse: 1.19167\tvalid_1's rmse: 1.37585\n",
            "[255]\ttraining's rmse: 1.19045\tvalid_1's rmse: 1.37583\n",
            "[260]\ttraining's rmse: 1.18919\tvalid_1's rmse: 1.37602\n",
            "[265]\ttraining's rmse: 1.18802\tvalid_1's rmse: 1.37595\n",
            "[270]\ttraining's rmse: 1.18685\tvalid_1's rmse: 1.37602\n",
            "[275]\ttraining's rmse: 1.18536\tvalid_1's rmse: 1.37601\n",
            "[280]\ttraining's rmse: 1.18428\tvalid_1's rmse: 1.37603\n",
            "Early stopping, best iteration is:\n",
            "[180]\ttraining's rmse: 1.21339\tvalid_1's rmse: 1.3736\n",
            "val rmse score is 1.3852480154451137\n",
            "Fold: 5\n"
          ]
        },
        {
          "output_type": "stream",
          "name": "stderr",
          "text": [
            "/usr/local/lib/python3.7/dist-packages/lightgbm/basic.py:1209: UserWarning:\n",
            "\n",
            "categorical_feature in Dataset is overridden.\n",
            "New categorical_feature is ['item_category_id', 'month']\n",
            "\n",
            "/usr/local/lib/python3.7/dist-packages/lightgbm/basic.py:762: UserWarning:\n",
            "\n",
            "categorical_feature in param dict is overridden.\n",
            "\n"
          ]
        },
        {
          "output_type": "stream",
          "name": "stdout",
          "text": [
            "Training until validation scores don't improve for 100 rounds.\n",
            "[5]\ttraining's rmse: 1.62876\tvalid_1's rmse: 1.72737\n",
            "[10]\ttraining's rmse: 1.48746\tvalid_1's rmse: 1.62353\n",
            "[15]\ttraining's rmse: 1.41673\tvalid_1's rmse: 1.56844\n",
            "[20]\ttraining's rmse: 1.3791\tvalid_1's rmse: 1.54635\n",
            "[25]\ttraining's rmse: 1.35284\tvalid_1's rmse: 1.53653\n",
            "[30]\ttraining's rmse: 1.33486\tvalid_1's rmse: 1.53042\n",
            "[35]\ttraining's rmse: 1.31986\tvalid_1's rmse: 1.5277\n",
            "[40]\ttraining's rmse: 1.30805\tvalid_1's rmse: 1.52759\n",
            "[45]\ttraining's rmse: 1.29845\tvalid_1's rmse: 1.5272\n",
            "[50]\ttraining's rmse: 1.2901\tvalid_1's rmse: 1.52629\n",
            "[55]\ttraining's rmse: 1.28336\tvalid_1's rmse: 1.52619\n",
            "[60]\ttraining's rmse: 1.27825\tvalid_1's rmse: 1.52611\n",
            "[65]\ttraining's rmse: 1.27214\tvalid_1's rmse: 1.52513\n",
            "[70]\ttraining's rmse: 1.26753\tvalid_1's rmse: 1.52414\n",
            "[75]\ttraining's rmse: 1.26307\tvalid_1's rmse: 1.52367\n",
            "[80]\ttraining's rmse: 1.25897\tvalid_1's rmse: 1.52331\n",
            "[85]\ttraining's rmse: 1.25508\tvalid_1's rmse: 1.52364\n",
            "[90]\ttraining's rmse: 1.25152\tvalid_1's rmse: 1.52344\n",
            "[95]\ttraining's rmse: 1.24804\tvalid_1's rmse: 1.52282\n",
            "[100]\ttraining's rmse: 1.24471\tvalid_1's rmse: 1.52318\n",
            "[105]\ttraining's rmse: 1.24162\tvalid_1's rmse: 1.523\n",
            "[110]\ttraining's rmse: 1.23871\tvalid_1's rmse: 1.52304\n",
            "[115]\ttraining's rmse: 1.23577\tvalid_1's rmse: 1.52338\n",
            "[120]\ttraining's rmse: 1.23335\tvalid_1's rmse: 1.52326\n",
            "[125]\ttraining's rmse: 1.23069\tvalid_1's rmse: 1.52301\n",
            "[130]\ttraining's rmse: 1.22833\tvalid_1's rmse: 1.52268\n",
            "[135]\ttraining's rmse: 1.22601\tvalid_1's rmse: 1.52295\n",
            "[140]\ttraining's rmse: 1.22359\tvalid_1's rmse: 1.5231\n",
            "[145]\ttraining's rmse: 1.22124\tvalid_1's rmse: 1.523\n",
            "[150]\ttraining's rmse: 1.21914\tvalid_1's rmse: 1.52342\n",
            "[155]\ttraining's rmse: 1.21718\tvalid_1's rmse: 1.52338\n",
            "[160]\ttraining's rmse: 1.2153\tvalid_1's rmse: 1.52363\n",
            "[165]\ttraining's rmse: 1.21321\tvalid_1's rmse: 1.52356\n",
            "[170]\ttraining's rmse: 1.21137\tvalid_1's rmse: 1.52285\n",
            "[175]\ttraining's rmse: 1.20952\tvalid_1's rmse: 1.52275\n",
            "[180]\ttraining's rmse: 1.20776\tvalid_1's rmse: 1.52292\n",
            "[185]\ttraining's rmse: 1.20561\tvalid_1's rmse: 1.52507\n",
            "[190]\ttraining's rmse: 1.20378\tvalid_1's rmse: 1.52523\n",
            "Early stopping, best iteration is:\n",
            "[92]\ttraining's rmse: 1.2501\tvalid_1's rmse: 1.52263\n",
            "val rmse score is 1.518941605364556\n"
          ]
        }
      ]
    },
    {
      "cell_type": "code",
      "metadata": {
        "id": "lS8SV0AWuWHe"
      },
      "source": [
        ""
      ],
      "execution_count": null,
      "outputs": []
    }
  ]
}